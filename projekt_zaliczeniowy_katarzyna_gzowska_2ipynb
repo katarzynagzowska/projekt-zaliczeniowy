{
  "nbformat": 4,
  "nbformat_minor": 0,
  "metadata": {
    "colab": {
      "provenance": []
    },
    "kernelspec": {
      "name": "python3",
      "display_name": "Python 3"
    },
    "language_info": {
      "name": "python"
    }
  },
  "cells": [
    {
      "cell_type": "code",
      "execution_count": 1,
      "metadata": {
        "id": "OEKhLbe6cJy_"
      },
      "outputs": [],
      "source": [
        "import pandas as pd"
      ]
    },
    {
      "cell_type": "code",
      "source": [
        "trojmiasto = pd.read_csv(\"/content/trojmiasto\")"
      ],
      "metadata": {
        "id": "8K84GCQ_cUGH"
      },
      "execution_count": 2,
      "outputs": []
    },
    {
      "cell_type": "code",
      "source": [
        "trojmiasto"
      ],
      "metadata": {
        "id": "ovPggwpyc8jv"
      },
      "execution_count": null,
      "outputs": []
    },
    {
      "cell_type": "code",
      "source": [
        "#Zadanie 1.1\n",
        "trojmiasto[\"created_at\"] = [wiersz.replace(\"Mon\", \"Poniedziałek\").replace(\"Tue\", \"Wtorek\").replace(\"Wed\", \"Środa\").replace(\"Thu\", \"Czwartek\").replace(\"Fri\", \"Piątek\").replace(\"Sat\", \"Sobota\").replace(\"Sun\", \"Niedziela\") for wiersz in trojmiasto[\"created_at\"]]"
      ],
      "metadata": {
        "id": "_i5Oc5ikK9ej"
      },
      "execution_count": 4,
      "outputs": []
    },
    {
      "cell_type": "code",
      "source": [
        "#Zadanie 1.2\n",
        "trojmiasto[\"user_created_at\"] = [wiersz.replace(\"Jan\", \"01\").replace(\"Feb\", \"02\").replace(\"Mar\", \"03\").replace(\"Apr\", \"04\").replace(\"May\", \"05\").replace(\"Jun\", \"06\").replace(\"Jul\", \"07\").replace(\"Aug\", \"08\").replace(\"Sep\", \"09\").replace(\"Oct\", \"10\").replace(\"Nov\", \"11\").replace(\"Dec\", \"12\") for wiersz in trojmiasto[\"user_created_at\"]]"
      ],
      "metadata": {
        "id": "xG-4-85ofKsA"
      },
      "execution_count": 5,
      "outputs": []
    },
    {
      "cell_type": "code",
      "source": [
        "#Zadanie 1.3\n",
        "[element for element in trojmiasto[\"tweet_url\"]]"
      ],
      "metadata": {
        "id": "r7sBoopcj8gU"
      },
      "execution_count": null,
      "outputs": []
    },
    {
      "cell_type": "code",
      "source": [
        "#Zadanie 1.4\n",
        "[element for element in trojmiasto[\"urls\"]]"
      ],
      "metadata": {
        "id": "7r5zkxbGhhV5"
      },
      "execution_count": null,
      "outputs": []
    },
    {
      "cell_type": "code",
      "source": [
        "#Zadanie 1.5\n",
        "[element for element in trojmiasto[\"media\"]]"
      ],
      "metadata": {
        "id": "ZCp_TLT8kBPc"
      },
      "execution_count": null,
      "outputs": []
    },
    {
      "cell_type": "code",
      "source": [
        "#Zadanie 1.6\n",
        "trojmiasto[\"text_without_stopwords\"] = \"\"\n",
        "stopwords = [\"ach\",\"aj\",\"albo\",\"bardzo\",\"bez\",\"bo\",\"być\",\"ci\",\"cię\",\"ciebie\",\"co\",\"czy\",\"daleko\",\"dla\",\"dlaczego\",\"dlatego\",\"do\",\"dobrze\",\"dokąd\",\"dość\",\"dużo\",\"dwa\",\"dwaj\",\"dwie\",\"dwoje\",\"dziś\",\"dzisiaj\",\"gdyby\",\"gdzie\",\"go\",\"ich\",\"ile\",\"im\",\"inny\",\"ja\",\"ją\",\"jak\",\"jakby\",\"jaki\",\"je\",\"jeden\",\"jedna\",\"jedno\",\"jego\",\"jej\",\"jemu\",\"jeśli\",\"jest\",\"jestem\",\"jeżeli\",\"już\",\"każdy\",\"kiedy\",\"kierunku\",\"kto\",\"ku\",\"lub\",\"ma\",\"mają\",\"mam\",\"mi\",\"mną\",\"mnie\",\"moi\",\"mój\",\"moja\",\"moje\",\"może\",\"mu\",\"my\",\"na\",\"nam\",\"nami\",\"nas\",\"nasi\",\"nasz\",\"nasza\",\"nasze\",\"natychmiast\",\"nią\",\"nic\",\"nich\",\"nie\",\"niego\",\"niej\",\"niemu\",\"nigdy\",\"nim\",\"nimi\",\"niż\",\"obok\",\"od\",\"około\",\"on\",\"ona\",\"one\",\"oni\",\"ono\",\"owszem\",\"po\",\"pod\",\"ponieważ\",\"przed\",\"przedtem\",\"są\",\"sam\",\"sama\",\"się\",\"skąd\",\"tak\",\"taki\",\"tam\",\"ten\",\"to\",\"tobą\",\"tobie\",\"tu\",\"tutaj\",\"twoi\",\"twój\",\"twoja\",\"twoje\",\"ty\",\"wam\",\"wami\",\"was\",\"wasi\",\"wasz\",\"wasza\",\"wasze\",\"we\",\"więc\",\"wszystko\",\"wtedy\",\"wy\",\"żaden\",\"zawsze\",\"że\",\"a\",\"aby\",\"acz\",\"aczkolwiek\",\"ale\",\"ależ\",\"aż\",\"bardziej\",\"bowiem\",\"by\",\"byli\",\"bynajmniej\",\"był\",\"była\",\"było\",\"były\",\"będzie\",\"będą\",\"cali\",\"cała\",\"cały\",\"cokolwiek\",\"coś\",\"czasami\",\"czasem\",\"czemu\",\"czyli\",\"gdy\",\"gdyż\",\"gdziekolwiek\",\"gdzieś\",\"i\",\"inna\",\"inne\",\"innych\",\"iż\",\"jakaś\",\"jakichś\",\"jakie\",\"jakiś\",\"jakiż\",\"jakkolwiek\",\"jako\",\"jakoś\",\"jednak\",\"jednakże\",\"jeszcze\",\"kilka\",\"kimś\",\"ktokolwiek\",\"ktoś\",\"która\",\"które\",\"którego\",\"której\",\"który\",\"których\",\"którym\",\"którzy\",\"lat\",\"lecz\",\"mimo\",\"między\",\"mogą\",\"moim\",\"możliwe\",\"można\",\"musi\",\"nad\",\"naszego\",\"naszych\",\"natomiast\",\"nawet\",\"no\",\"o\",\"oraz\",\"pan\",\"pana\",\"pani\",\"podczas\",\"pomimo\",\"ponad\",\"powinien\",\"powinna\",\"powinni\",\"powinno\",\"poza\",\"prawie\",\"przecież\",\"przede\",\"przez\",\"przy\",\"roku\",\"również\",\"sobie\",\"sobą\",\"sposób\",\"swoje\",\"ta\",\"taka\",\"takie\",\"także\",\"te\",\"tego\",\"tej\",\"teraz\",\"też\",\"totobą\",\"toteż\",\"trzeba\",\"twoim\",\"twym\",\"tych\",\"tylko\",\"tym\",\"u\",\"w\",\"według\",\"wiele\",\"wielu\",\"więcej\",\"wszyscy\",\"wszystkich\",\"wszystkie\",\"wszystkim\",\"właśnie\",\"z\",\"za\",\"zapewne\",\"zeznowu\",\"znów\",\"został\",\"żadna\",\"żadne\",\"żadnych\",\"żeby\"]\n",
        "for i, row in trojmiasto.iterrows():\n",
        "    tekst = row[\"text\"].split(\" \")\n",
        "    czysty = [wyraz for wyraz in tekst if wyraz.lower() not in stopwords]\n",
        "    oczyszczony_tekst = \" \".join(czysty)\n",
        "    trojmiasto.at[i, \"text_without_stopwords\"] = oczyszczony_tekst"
      ],
      "metadata": {
        "id": "uJWyi4lmo8Ru"
      },
      "execution_count": null,
      "outputs": []
    },
    {
      "cell_type": "code",
      "source": [
        "trojmiasto[\"text_without_stopwords\"]"
      ],
      "metadata": {
        "id": "wpHfPY0guPqC"
      },
      "execution_count": null,
      "outputs": []
    },
    {
      "cell_type": "code",
      "source": [
        "#Zadanie 2.1\n",
        "trojmiasto_posortowane = trojmiasto.sort_values(\"favorite_count\", ascending=False).head(5)\n",
        "print(trojmiasto_posortowane[\"text\"])"
      ],
      "metadata": {
        "id": "Dg0HKST-ubwo"
      },
      "execution_count": null,
      "outputs": []
    },
    {
      "cell_type": "code",
      "source": [
        "#Zadanie 2.2\n",
        "trojmiasto_retweety = trojmiasto.sort_values(\"retweet_count\", ascending=False).head(5)\n",
        "print(trojmiasto_retweety[\"text\"])"
      ],
      "metadata": {
        "id": "FhLb_dhkyxd_"
      },
      "execution_count": null,
      "outputs": []
    },
    {
      "cell_type": "code",
      "source": [
        "#Zadanie 2.3\n",
        "trojmiasto[trojmiasto[\"possibly_sensitive\"] == False] [\"text\"]"
      ],
      "metadata": {
        "id": "60QahEpQzXsK"
      },
      "execution_count": null,
      "outputs": []
    },
    {
      "cell_type": "code",
      "source": [
        "#Zadanie 2.4\n",
        "oldest_user_date = trojmiasto[\"user_created_at\"].min()\n",
        "oldest_user = trojmiasto[trojmiasto[\"user_created_at\"] == oldest_user_date][\"user_name\"].values[0]\n",
        "trojmiasto_oldest = trojmiasto[trojmiasto[\"user_name\"] == oldest_user]\n",
        "print(trojmiasto_oldest[\"text\"])"
      ],
      "metadata": {
        "id": "TDdcT0l31G7p"
      },
      "execution_count": null,
      "outputs": []
    },
    {
      "cell_type": "code",
      "source": [
        "#Zadanie 2.5\n",
        "most_followers_user = trojmiasto[\"user_followers_count\"].max()\n",
        "most_followers = trojmiasto[trojmiasto[\"user_followers_count\"] == most_followers_user][\"user_name\"].values[0]\n",
        "trojmiasto_followers = trojmiasto[trojmiasto[\"user_name\"] == most_followers]\n",
        "print(trojmiasto_followers[\"text\"])"
      ],
      "metadata": {
        "id": "-dUgnL-h5ChE"
      },
      "execution_count": null,
      "outputs": []
    },
    {
      "cell_type": "code",
      "source": [
        "#Zadanie 2.6\n",
        "trojmiasto[trojmiasto[\"user_verified\"] == True] [\"user_name\"]"
      ],
      "metadata": {
        "id": "Hc0nrcGe5x0I"
      },
      "execution_count": null,
      "outputs": []
    },
    {
      "cell_type": "code",
      "source": [
        "#Zadanie 2.7\n",
        "trojmiasto[\"dzien_tygodnia\"] = trojmiasto[\"created_at\"].str.split().str[0]\n",
        "dni_tygodnia = trojmiasto.groupby([\"dzien_tygodnia\"]).size().reset_index(name='counts')\n",
        "dni_tygodnia = dni_tygodnia.sort_values(by='counts', ascending=False)\n",
        "print(\"Najczęściej publikowano tweety w: \", dni_tygodnia.iloc[0][\"dzien_tygodnia\"])"
      ],
      "metadata": {
        "colab": {
          "base_uri": "https://localhost:8080/"
        },
        "id": "2lQZZ6kvSDZp",
        "outputId": "9131cfb9-e85f-4705-8cac-56a4fa26e015"
      },
      "execution_count": 30,
      "outputs": [
        {
          "output_type": "stream",
          "name": "stdout",
          "text": [
            "Najczęściej publikowano tweety w:  Poniedziałek\n"
          ]
        }
      ]
    },
    {
      "cell_type": "code",
      "source": [
        "!pip install spacy -U\n",
        "!python -m spacy download pl_core_news_sm\n",
        "#pl_core_news_lg"
      ],
      "metadata": {
        "id": "2XBK3oiATqLN",
        "colab": {
          "base_uri": "https://localhost:8080/"
        },
        "outputId": "df98d734-9149-4e16-ce63-30b4fdc1d053"
      },
      "execution_count": 7,
      "outputs": [
        {
          "output_type": "stream",
          "name": "stdout",
          "text": [
            "Looking in indexes: https://pypi.org/simple, https://us-python.pkg.dev/colab-wheels/public/simple/\n",
            "Requirement already satisfied: spacy in /usr/local/lib/python3.8/dist-packages (3.4.4)\n",
            "Collecting spacy\n",
            "  Downloading spacy-3.5.0-cp38-cp38-manylinux_2_17_x86_64.manylinux2014_x86_64.whl (6.7 MB)\n",
            "\u001b[2K     \u001b[90m━━━━━━━━━━━━━━━━━━━━━━━━━━━━━━━━━━━━━━━━\u001b[0m \u001b[32m6.7/6.7 MB\u001b[0m \u001b[31m48.2 MB/s\u001b[0m eta \u001b[36m0:00:00\u001b[0m\n",
            "\u001b[?25hRequirement already satisfied: requests<3.0.0,>=2.13.0 in /usr/local/lib/python3.8/dist-packages (from spacy) (2.25.1)\n",
            "Requirement already satisfied: thinc<8.2.0,>=8.1.0 in /usr/local/lib/python3.8/dist-packages (from spacy) (8.1.6)\n",
            "Requirement already satisfied: catalogue<2.1.0,>=2.0.6 in /usr/local/lib/python3.8/dist-packages (from spacy) (2.0.8)\n",
            "Requirement already satisfied: setuptools in /usr/local/lib/python3.8/dist-packages (from spacy) (57.4.0)\n",
            "Requirement already satisfied: numpy>=1.15.0 in /usr/local/lib/python3.8/dist-packages (from spacy) (1.21.6)\n",
            "Requirement already satisfied: langcodes<4.0.0,>=3.2.0 in /usr/local/lib/python3.8/dist-packages (from spacy) (3.3.0)\n",
            "Requirement already satisfied: cymem<2.1.0,>=2.0.2 in /usr/local/lib/python3.8/dist-packages (from spacy) (2.0.7)\n",
            "Requirement already satisfied: preshed<3.1.0,>=3.0.2 in /usr/local/lib/python3.8/dist-packages (from spacy) (3.0.8)\n",
            "Requirement already satisfied: spacy-loggers<2.0.0,>=1.0.0 in /usr/local/lib/python3.8/dist-packages (from spacy) (1.0.4)\n",
            "Requirement already satisfied: typer<0.8.0,>=0.3.0 in /usr/local/lib/python3.8/dist-packages (from spacy) (0.7.0)\n",
            "Requirement already satisfied: spacy-legacy<3.1.0,>=3.0.11 in /usr/local/lib/python3.8/dist-packages (from spacy) (3.0.11)\n",
            "Requirement already satisfied: smart-open<7.0.0,>=5.2.1 in /usr/local/lib/python3.8/dist-packages (from spacy) (6.3.0)\n",
            "Requirement already satisfied: murmurhash<1.1.0,>=0.28.0 in /usr/local/lib/python3.8/dist-packages (from spacy) (1.0.9)\n",
            "Requirement already satisfied: srsly<3.0.0,>=2.4.3 in /usr/local/lib/python3.8/dist-packages (from spacy) (2.4.5)\n",
            "Requirement already satisfied: jinja2 in /usr/local/lib/python3.8/dist-packages (from spacy) (2.11.3)\n",
            "Requirement already satisfied: packaging>=20.0 in /usr/local/lib/python3.8/dist-packages (from spacy) (21.3)\n",
            "Requirement already satisfied: pydantic!=1.8,!=1.8.1,<1.11.0,>=1.7.4 in /usr/local/lib/python3.8/dist-packages (from spacy) (1.10.4)\n",
            "Requirement already satisfied: pathy>=0.10.0 in /usr/local/lib/python3.8/dist-packages (from spacy) (0.10.1)\n",
            "Requirement already satisfied: wasabi<1.2.0,>=0.9.1 in /usr/local/lib/python3.8/dist-packages (from spacy) (0.10.1)\n",
            "Requirement already satisfied: tqdm<5.0.0,>=4.38.0 in /usr/local/lib/python3.8/dist-packages (from spacy) (4.64.1)\n",
            "Requirement already satisfied: pyparsing!=3.0.5,>=2.0.2 in /usr/local/lib/python3.8/dist-packages (from packaging>=20.0->spacy) (3.0.9)\n",
            "Requirement already satisfied: typing-extensions>=4.2.0 in /usr/local/lib/python3.8/dist-packages (from pydantic!=1.8,!=1.8.1,<1.11.0,>=1.7.4->spacy) (4.4.0)\n",
            "Requirement already satisfied: idna<3,>=2.5 in /usr/local/lib/python3.8/dist-packages (from requests<3.0.0,>=2.13.0->spacy) (2.10)\n",
            "Requirement already satisfied: urllib3<1.27,>=1.21.1 in /usr/local/lib/python3.8/dist-packages (from requests<3.0.0,>=2.13.0->spacy) (1.24.3)\n",
            "Requirement already satisfied: certifi>=2017.4.17 in /usr/local/lib/python3.8/dist-packages (from requests<3.0.0,>=2.13.0->spacy) (2022.12.7)\n",
            "Requirement already satisfied: chardet<5,>=3.0.2 in /usr/local/lib/python3.8/dist-packages (from requests<3.0.0,>=2.13.0->spacy) (4.0.0)\n",
            "Requirement already satisfied: confection<1.0.0,>=0.0.1 in /usr/local/lib/python3.8/dist-packages (from thinc<8.2.0,>=8.1.0->spacy) (0.0.3)\n",
            "Requirement already satisfied: blis<0.8.0,>=0.7.8 in /usr/local/lib/python3.8/dist-packages (from thinc<8.2.0,>=8.1.0->spacy) (0.7.9)\n",
            "Requirement already satisfied: click<9.0.0,>=7.1.1 in /usr/local/lib/python3.8/dist-packages (from typer<0.8.0,>=0.3.0->spacy) (7.1.2)\n",
            "Requirement already satisfied: MarkupSafe>=0.23 in /usr/local/lib/python3.8/dist-packages (from jinja2->spacy) (2.0.1)\n",
            "Installing collected packages: spacy\n",
            "  Attempting uninstall: spacy\n",
            "    Found existing installation: spacy 3.4.4\n",
            "    Uninstalling spacy-3.4.4:\n",
            "      Successfully uninstalled spacy-3.4.4\n",
            "\u001b[31mERROR: pip's dependency resolver does not currently take into account all the packages that are installed. This behaviour is the source of the following dependency conflicts.\n",
            "en-core-web-sm 3.4.1 requires spacy<3.5.0,>=3.4.0, but you have spacy 3.5.0 which is incompatible.\u001b[0m\u001b[31m\n",
            "\u001b[0mSuccessfully installed spacy-3.5.0\n",
            "/usr/local/lib/python3.8/dist-packages/torch/cuda/__init__.py:497: UserWarning: Can't initialize NVML\n",
            "  warnings.warn(\"Can't initialize NVML\")\n",
            "2023-01-21 21:43:59.808613: E tensorflow/stream_executor/cuda/cuda_driver.cc:271] failed call to cuInit: CUDA_ERROR_NO_DEVICE: no CUDA-capable device is detected\n",
            "Looking in indexes: https://pypi.org/simple, https://us-python.pkg.dev/colab-wheels/public/simple/\n",
            "Collecting pl-core-news-sm==3.5.0\n",
            "  Downloading https://github.com/explosion/spacy-models/releases/download/pl_core_news_sm-3.5.0/pl_core_news_sm-3.5.0-py3-none-any.whl (20.2 MB)\n",
            "\u001b[2K     \u001b[90m━━━━━━━━━━━━━━━━━━━━━━━━━━━━━━━━━━━━━━━━\u001b[0m \u001b[32m20.2/20.2 MB\u001b[0m \u001b[31m31.1 MB/s\u001b[0m eta \u001b[36m0:00:00\u001b[0m\n",
            "\u001b[?25hRequirement already satisfied: spacy<3.6.0,>=3.5.0 in /usr/local/lib/python3.8/dist-packages (from pl-core-news-sm==3.5.0) (3.5.0)\n",
            "Requirement already satisfied: tqdm<5.0.0,>=4.38.0 in /usr/local/lib/python3.8/dist-packages (from spacy<3.6.0,>=3.5.0->pl-core-news-sm==3.5.0) (4.64.1)\n",
            "Requirement already satisfied: numpy>=1.15.0 in /usr/local/lib/python3.8/dist-packages (from spacy<3.6.0,>=3.5.0->pl-core-news-sm==3.5.0) (1.21.6)\n",
            "Requirement already satisfied: catalogue<2.1.0,>=2.0.6 in /usr/local/lib/python3.8/dist-packages (from spacy<3.6.0,>=3.5.0->pl-core-news-sm==3.5.0) (2.0.8)\n",
            "Requirement already satisfied: pathy>=0.10.0 in /usr/local/lib/python3.8/dist-packages (from spacy<3.6.0,>=3.5.0->pl-core-news-sm==3.5.0) (0.10.1)\n",
            "Requirement already satisfied: murmurhash<1.1.0,>=0.28.0 in /usr/local/lib/python3.8/dist-packages (from spacy<3.6.0,>=3.5.0->pl-core-news-sm==3.5.0) (1.0.9)\n",
            "Requirement already satisfied: cymem<2.1.0,>=2.0.2 in /usr/local/lib/python3.8/dist-packages (from spacy<3.6.0,>=3.5.0->pl-core-news-sm==3.5.0) (2.0.7)\n",
            "Requirement already satisfied: spacy-legacy<3.1.0,>=3.0.11 in /usr/local/lib/python3.8/dist-packages (from spacy<3.6.0,>=3.5.0->pl-core-news-sm==3.5.0) (3.0.11)\n",
            "Requirement already satisfied: spacy-loggers<2.0.0,>=1.0.0 in /usr/local/lib/python3.8/dist-packages (from spacy<3.6.0,>=3.5.0->pl-core-news-sm==3.5.0) (1.0.4)\n",
            "Requirement already satisfied: pydantic!=1.8,!=1.8.1,<1.11.0,>=1.7.4 in /usr/local/lib/python3.8/dist-packages (from spacy<3.6.0,>=3.5.0->pl-core-news-sm==3.5.0) (1.10.4)\n",
            "Requirement already satisfied: smart-open<7.0.0,>=5.2.1 in /usr/local/lib/python3.8/dist-packages (from spacy<3.6.0,>=3.5.0->pl-core-news-sm==3.5.0) (6.3.0)\n",
            "Requirement already satisfied: srsly<3.0.0,>=2.4.3 in /usr/local/lib/python3.8/dist-packages (from spacy<3.6.0,>=3.5.0->pl-core-news-sm==3.5.0) (2.4.5)\n",
            "Requirement already satisfied: jinja2 in /usr/local/lib/python3.8/dist-packages (from spacy<3.6.0,>=3.5.0->pl-core-news-sm==3.5.0) (2.11.3)\n",
            "Requirement already satisfied: thinc<8.2.0,>=8.1.0 in /usr/local/lib/python3.8/dist-packages (from spacy<3.6.0,>=3.5.0->pl-core-news-sm==3.5.0) (8.1.6)\n",
            "Requirement already satisfied: preshed<3.1.0,>=3.0.2 in /usr/local/lib/python3.8/dist-packages (from spacy<3.6.0,>=3.5.0->pl-core-news-sm==3.5.0) (3.0.8)\n",
            "Requirement already satisfied: langcodes<4.0.0,>=3.2.0 in /usr/local/lib/python3.8/dist-packages (from spacy<3.6.0,>=3.5.0->pl-core-news-sm==3.5.0) (3.3.0)\n",
            "Requirement already satisfied: typer<0.8.0,>=0.3.0 in /usr/local/lib/python3.8/dist-packages (from spacy<3.6.0,>=3.5.0->pl-core-news-sm==3.5.0) (0.7.0)\n",
            "Requirement already satisfied: wasabi<1.2.0,>=0.9.1 in /usr/local/lib/python3.8/dist-packages (from spacy<3.6.0,>=3.5.0->pl-core-news-sm==3.5.0) (0.10.1)\n",
            "Requirement already satisfied: requests<3.0.0,>=2.13.0 in /usr/local/lib/python3.8/dist-packages (from spacy<3.6.0,>=3.5.0->pl-core-news-sm==3.5.0) (2.25.1)\n",
            "Requirement already satisfied: setuptools in /usr/local/lib/python3.8/dist-packages (from spacy<3.6.0,>=3.5.0->pl-core-news-sm==3.5.0) (57.4.0)\n",
            "Requirement already satisfied: packaging>=20.0 in /usr/local/lib/python3.8/dist-packages (from spacy<3.6.0,>=3.5.0->pl-core-news-sm==3.5.0) (21.3)\n",
            "Requirement already satisfied: pyparsing!=3.0.5,>=2.0.2 in /usr/local/lib/python3.8/dist-packages (from packaging>=20.0->spacy<3.6.0,>=3.5.0->pl-core-news-sm==3.5.0) (3.0.9)\n",
            "Requirement already satisfied: typing-extensions>=4.2.0 in /usr/local/lib/python3.8/dist-packages (from pydantic!=1.8,!=1.8.1,<1.11.0,>=1.7.4->spacy<3.6.0,>=3.5.0->pl-core-news-sm==3.5.0) (4.4.0)\n",
            "Requirement already satisfied: certifi>=2017.4.17 in /usr/local/lib/python3.8/dist-packages (from requests<3.0.0,>=2.13.0->spacy<3.6.0,>=3.5.0->pl-core-news-sm==3.5.0) (2022.12.7)\n",
            "Requirement already satisfied: idna<3,>=2.5 in /usr/local/lib/python3.8/dist-packages (from requests<3.0.0,>=2.13.0->spacy<3.6.0,>=3.5.0->pl-core-news-sm==3.5.0) (2.10)\n",
            "Requirement already satisfied: urllib3<1.27,>=1.21.1 in /usr/local/lib/python3.8/dist-packages (from requests<3.0.0,>=2.13.0->spacy<3.6.0,>=3.5.0->pl-core-news-sm==3.5.0) (1.24.3)\n",
            "Requirement already satisfied: chardet<5,>=3.0.2 in /usr/local/lib/python3.8/dist-packages (from requests<3.0.0,>=2.13.0->spacy<3.6.0,>=3.5.0->pl-core-news-sm==3.5.0) (4.0.0)\n",
            "Requirement already satisfied: blis<0.8.0,>=0.7.8 in /usr/local/lib/python3.8/dist-packages (from thinc<8.2.0,>=8.1.0->spacy<3.6.0,>=3.5.0->pl-core-news-sm==3.5.0) (0.7.9)\n",
            "Requirement already satisfied: confection<1.0.0,>=0.0.1 in /usr/local/lib/python3.8/dist-packages (from thinc<8.2.0,>=8.1.0->spacy<3.6.0,>=3.5.0->pl-core-news-sm==3.5.0) (0.0.3)\n",
            "Requirement already satisfied: click<9.0.0,>=7.1.1 in /usr/local/lib/python3.8/dist-packages (from typer<0.8.0,>=0.3.0->spacy<3.6.0,>=3.5.0->pl-core-news-sm==3.5.0) (7.1.2)\n",
            "Requirement already satisfied: MarkupSafe>=0.23 in /usr/local/lib/python3.8/dist-packages (from jinja2->spacy<3.6.0,>=3.5.0->pl-core-news-sm==3.5.0) (2.0.1)\n",
            "Installing collected packages: pl-core-news-sm\n",
            "Successfully installed pl-core-news-sm-3.5.0\n",
            "\u001b[38;5;2m✔ Download and installation successful\u001b[0m\n",
            "You can now load the package via spacy.load('pl_core_news_sm')\n"
          ]
        }
      ]
    },
    {
      "cell_type": "code",
      "source": [
        "import spacy"
      ],
      "metadata": {
        "id": "4GLG2hwKT35B",
        "colab": {
          "base_uri": "https://localhost:8080/"
        },
        "outputId": "d6ed2e16-b387-4736-a836-aee595b73ecd"
      },
      "execution_count": 8,
      "outputs": [
        {
          "output_type": "stream",
          "name": "stderr",
          "text": [
            "/usr/local/lib/python3.8/dist-packages/torch/cuda/__init__.py:497: UserWarning: Can't initialize NVML\n",
            "  warnings.warn(\"Can't initialize NVML\")\n"
          ]
        }
      ]
    },
    {
      "cell_type": "code",
      "source": [
        "nlp = spacy.load(\"pl_core_news_sm\")"
      ],
      "metadata": {
        "id": "4W0i2rykT5-D"
      },
      "execution_count": 10,
      "outputs": []
    },
    {
      "cell_type": "code",
      "source": [
        "#Zadanie 3.1\n",
        "trojmiasto[\"persons\"] = \"\"\n",
        "for i, row in trojmiasto.iterrows():\n",
        "    if isinstance(row[\"text\"], str):\n",
        "        text = row[\"text\"]\n",
        "        doc = nlp(text)\n",
        "        persons = [ent.text for ent in doc.ents if ent.label_ == \"persName\"]\n",
        "        if not persons:\n",
        "            trojmiasto.at[i, \"persons\"] = \"\"\n",
        "        else:\n",
        "            trojmiasto.at[i, \"persons\"] = persons\n",
        "    else:\n",
        "        trojmiasto.at[i, \"persons\"] = \"\""
      ],
      "metadata": {
        "id": "dClTvG4Zwowj"
      },
      "execution_count": 16,
      "outputs": []
    },
    {
      "cell_type": "code",
      "source": [
        "#Zadanie 3.2\n",
        "trojmiasto[\"places\"] = \"\"\n",
        "for i, row in trojmiasto.iterrows():\n",
        "    if isinstance(row[\"text\"], str):\n",
        "        text = row[\"text\"]\n",
        "        doc = nlp(text)\n",
        "        places = [ent.text for ent in doc.ents if ent.label_ == \"placeName\"]\n",
        "        if not persons:\n",
        "            trojmiasto.at[i, \"places\"] = \"\"\n",
        "        else:\n",
        "            trojmiasto.at[i, \"places\"] = places\n",
        "    else:\n",
        "        trojmiasto.at[i, \"places\"] = \"\""
      ],
      "metadata": {
        "id": "LKMpRM6uTz88"
      },
      "execution_count": 14,
      "outputs": []
    },
    {
      "cell_type": "code",
      "source": [
        "#Zadanie 3.3\n",
        "trojmiasto[\"organizations\"] = \"\"\n",
        "for i, row in trojmiasto.iterrows():\n",
        "    if isinstance(row[\"text\"], str):\n",
        "        text = row[\"text\"]\n",
        "        doc = nlp(text)\n",
        "        organizations = [ent.text for ent in doc.ents if ent.label_ == \"orgName\"]\n",
        "        if not persons:\n",
        "            trojmiasto.at[i, \"organizations\"] = \"\"\n",
        "        else:\n",
        "            trojmiasto.at[i, \"organizations\"] = organizations\n",
        "    else:\n",
        "        trojmiasto.at[i, \"organizations\"] = \"\""
      ],
      "metadata": {
        "id": "Qjayc46pVxqB"
      },
      "execution_count": 19,
      "outputs": []
    },
    {
      "cell_type": "code",
      "source": [
        "#Zadanie 4\n",
        "import matplotlib.pyplot as plt"
      ],
      "metadata": {
        "id": "PKaJWEsOWDw7"
      },
      "execution_count": 24,
      "outputs": []
    },
    {
      "cell_type": "code",
      "source": [
        "data = [elem for elem in trojmiasto[\"created_at\"]]\n",
        "\n",
        "poniedzialek = 0\n",
        "wtorek = 0\n",
        "sroda = 0\n",
        "czwartek = 0\n",
        "piatek = 0\n",
        "sobota = 0\n",
        "niedziela = 0\n",
        "\n",
        "for elem in data:\n",
        "    if elem.find(\"Poniedziałek\") != -1:\n",
        "        poniedzialek +=1\n",
        "    elif elem.find(\"Wtorek\") != -1:\n",
        "        wtorek +=1\n",
        "    elif elem.find(\"Środa\") != -1:\n",
        "        sroda +=1\n",
        "    elif elem.find(\"Czwartek\") != -1:\n",
        "        czwartek +=1\n",
        "    elif elem.find(\"Piątek\") != -1:\n",
        "        piatek +=1\n",
        "    elif elem.find(\"Sobota\") != -1:\n",
        "        sobota +=1\n",
        "    elif elem.find(\"Niedziela\") != -1:\n",
        "        niedziela +=1\n",
        "\n",
        "x = ['Poniedziałek', 'Wtorek', 'Środa', 'Czwartek', 'Piątek', 'Sobota', 'Niedziela']\n",
        "y = [poniedzialek, wtorek, sroda, czwartek, piatek, sobota, niedziela]\n",
        "\n",
        "plt.bar(x, y)\n",
        "plt.title('Liczba tweetów per dzień tygodnia', fontsize = 12, color = '#000000', fontweight = 'bold')\n",
        "plt.xlabel('Dzień tygodnia', fontsize = 11, color = '#000000', fontweight = 'medium')\n",
        "plt.ylabel('Tweety (liczba)', fontsize = 11, color = '#000000', fontweight = 'medium')\n",
        "kolory = ['#ffe6ff', '#ffcccc', '#ccf2ff', '#ffffe6', '#ccfff2', '#f2d9e6', '#ffe6cc']\n",
        "plt.bar(x, y, color = kolory)\n",
        "plt.show()"
      ],
      "metadata": {
        "colab": {
          "base_uri": "https://localhost:8080/",
          "height": 296
        },
        "id": "99Hduhg-Z1T8",
        "outputId": "e94d874b-ebd8-467c-aaf5-a7b3e22690db"
      },
      "execution_count": 29,
      "outputs": [
        {
          "output_type": "display_data",
          "data": {
            "text/plain": [
              "<Figure size 432x288 with 1 Axes>"
            ],
            "image/png": "[encoded data removed]"
          },
          "metadata": {
            "needs_background": "light"
          }
        }
      ]
    }
  ]
}